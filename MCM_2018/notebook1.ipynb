{
 "cells": [
  {
   "cell_type": "code",
   "execution_count": 1,
   "metadata": {
    "ExecuteTime": {
     "end_time": "2021-09-14T21:48:41.040545Z",
     "start_time": "2021-09-14T21:48:34.535666Z"
    },
    "scrolled": true
   },
   "outputs": [
    {
     "data": {
      "text/html": [
       "<div>\n",
       "<style scoped>\n",
       "    .dataframe tbody tr th:only-of-type {\n",
       "        vertical-align: middle;\n",
       "    }\n",
       "\n",
       "    .dataframe tbody tr th {\n",
       "        vertical-align: top;\n",
       "    }\n",
       "\n",
       "    .dataframe thead th {\n",
       "        text-align: right;\n",
       "    }\n",
       "</style>\n",
       "<table border=\"1\" class=\"dataframe\">\n",
       "  <thead>\n",
       "    <tr style=\"text-align: right;\">\n",
       "      <th></th>\n",
       "      <th>MSN</th>\n",
       "      <th>StateCode</th>\n",
       "      <th>Year</th>\n",
       "      <th>Data</th>\n",
       "    </tr>\n",
       "  </thead>\n",
       "  <tbody>\n",
       "    <tr>\n",
       "      <th>0</th>\n",
       "      <td>ABICB</td>\n",
       "      <td>AZ</td>\n",
       "      <td>1960</td>\n",
       "      <td>0.0</td>\n",
       "    </tr>\n",
       "    <tr>\n",
       "      <th>1</th>\n",
       "      <td>ABICB</td>\n",
       "      <td>AZ</td>\n",
       "      <td>1961</td>\n",
       "      <td>0.0</td>\n",
       "    </tr>\n",
       "    <tr>\n",
       "      <th>2</th>\n",
       "      <td>ABICB</td>\n",
       "      <td>AZ</td>\n",
       "      <td>1962</td>\n",
       "      <td>0.0</td>\n",
       "    </tr>\n",
       "    <tr>\n",
       "      <th>3</th>\n",
       "      <td>ABICB</td>\n",
       "      <td>AZ</td>\n",
       "      <td>1963</td>\n",
       "      <td>0.0</td>\n",
       "    </tr>\n",
       "    <tr>\n",
       "      <th>4</th>\n",
       "      <td>ABICB</td>\n",
       "      <td>AZ</td>\n",
       "      <td>1964</td>\n",
       "      <td>0.0</td>\n",
       "    </tr>\n",
       "  </tbody>\n",
       "</table>\n",
       "</div>"
      ],
      "text/plain": [
       "     MSN StateCode  Year  Data\n",
       "0  ABICB        AZ  1960   0.0\n",
       "1  ABICB        AZ  1961   0.0\n",
       "2  ABICB        AZ  1962   0.0\n",
       "3  ABICB        AZ  1963   0.0\n",
       "4  ABICB        AZ  1964   0.0"
      ]
     },
     "execution_count": 1,
     "metadata": {},
     "output_type": "execute_result"
    }
   ],
   "source": [
    "import pandas as pd\n",
    "datafile = './ProblemCData.xlsx'\n",
    "dataset = pd.read_excel(datafile)\n",
    "dataset.head()"
   ]
  },
  {
   "cell_type": "code",
   "execution_count": 2,
   "metadata": {
    "ExecuteTime": {
     "end_time": "2021-09-14T21:48:44.238635Z",
     "start_time": "2021-09-14T21:48:43.966530Z"
    }
   },
   "outputs": [],
   "source": [
    "import matplotlib.pyplot as plt"
   ]
  },
  {
   "cell_type": "code",
   "execution_count": 3,
   "metadata": {
    "ExecuteTime": {
     "end_time": "2021-09-14T21:48:45.693630Z",
     "start_time": "2021-09-14T21:48:45.598176Z"
    }
   },
   "outputs": [],
   "source": [
    "E_AZ = dataset[(dataset['MSN'] == 'GDPRX') & (dataset['StateCode'] == 'AZ')]\n",
    "E_CA = dataset[(dataset['MSN'] == 'GDPRX') & (dataset['StateCode'] == 'CA')]\n",
    "E_NM = dataset[(dataset['MSN'] == 'GDPRX') & (dataset['StateCode'] == 'NM')]\n",
    "E_TX = dataset[(dataset['MSN'] == 'GDPRX') & (dataset['StateCode'] == 'TX')]\n",
    "\n",
    "P_AZ = dataset[(dataset['MSN'] == 'TPOPP') & (dataset['StateCode'] == 'AZ')]\n",
    "P_CA = dataset[(dataset['MSN'] == 'TPOPP') & (dataset['StateCode'] == 'CA')]\n",
    "P_NM = dataset[(dataset['MSN'] == 'TPOPP') & (dataset['StateCode'] == 'NM')]\n",
    "P_TX = dataset[(dataset['MSN'] == 'TPOPP') & (dataset['StateCode'] == 'TX')]"
   ]
  },
  {
   "cell_type": "code",
   "execution_count": 4,
   "metadata": {
    "ExecuteTime": {
     "end_time": "2021-09-14T21:48:46.941333Z",
     "start_time": "2021-09-14T21:48:46.934331Z"
    }
   },
   "outputs": [],
   "source": [
    "t = [y for y in range(1977, 2010)]"
   ]
  },
  {
   "cell_type": "code",
   "execution_count": 5,
   "metadata": {
    "ExecuteTime": {
     "end_time": "2021-09-14T21:48:48.990917Z",
     "start_time": "2021-09-14T21:48:47.917130Z"
    }
   },
   "outputs": [],
   "source": [
    "import numpy as np\n",
    "from sklearn.linear_model import LinearRegression\n",
    "from sklearn.preprocessing import PolynomialFeatures"
   ]
  },
  {
   "cell_type": "code",
   "execution_count": 6,
   "metadata": {
    "ExecuteTime": {
     "end_time": "2021-09-14T21:48:51.292097Z",
     "start_time": "2021-09-14T21:48:51.285097Z"
    }
   },
   "outputs": [],
   "source": [
    "e = np.concatenate((E_AZ['Data'].values, E_CA['Data'].values, E_NM['Data'].values, E_TX['Data'].values))\n",
    "p = np.concatenate((P_AZ['Data'].values[17:], P_CA['Data'].values[17:], P_NM['Data'].values[17:], P_TX['Data'].values[17:]))"
   ]
  },
  {
   "cell_type": "code",
   "execution_count": 7,
   "metadata": {
    "ExecuteTime": {
     "end_time": "2021-09-14T21:48:55.040918Z",
     "start_time": "2021-09-14T21:48:55.028915Z"
    }
   },
   "outputs": [
    {
     "name": "stdout",
     "output_type": "stream",
     "text": [
      "[  48878.5382    53993.14082   59072.31394   60906.14486   62601.09214\n",
      "   61128.64212   64621.99082   71570.42436   76128.07524   80621.95302\n",
      "   83970.74936   87979.95158   88762.23494   89458.07032   89830.78866\n",
      "   98968.7653   104049.3556   114121.2539   122797.2298   132497.8269\n",
      "  141718.       155020.       168321.       179260.       185979.\n",
      "  190389.       200110.       207587.       222968.       239013.\n",
      "  245228.       241620.       230854.       599975.9258   641268.3726\n",
      "  666630.6781   686706.6951   709313.003    709514.9511   734901.0152\n",
      "  793905.4983   834568.3422   866143.5216   919576.613    971643.5849\n",
      " 1008338.743   1037894.441   1023009.678   1021310.938   1017236.338\n",
      " 1036373.891   1077404.993   1120586.248   1187930.      1268475.\n",
      " 1367844.      1470394.      1472352.      1501782.      1548899.\n",
      " 1622000.      1691991.      1747816.      1775105.      1779234.\n",
      " 1736901.        24476.47902   25808.58665   26063.18379   26911.66338\n",
      "   27296.22224   26848.28041   27297.82013   28619.27516   29687.73094\n",
      "   29409.69808   29465.62423   30047.25619   30695.99953   31416.11529\n",
      "   34988.4647    37040.68809   40987.47639   45984.61105   46753.72877\n",
      "   48801.15849   53263.        54244.        57810.        58528.\n",
      "   60157.        61592.        63283.        67700.        67776.\n",
      "   69258.        69610.        69923.        69052.       374213.9605\n",
      "  394809.5719   407951.5335   422330.7406   448999.4169   450621.4156\n",
      "  449934.8952   476135.8323   497448.1408   486358.1962   484449.5187\n",
      "  513456.8908   526568.6756   543512.9039   552294.3294   573991.3911\n",
      "  594632.2676   627864.3805   659565.0249   698643.8773   754418.\n",
      "  802173.       837263.       872598.       895381.       916438.\n",
      "  918039.       968363.       970997.      1017505.      1069863.\n",
      " 1065904.      1066437.     ] [ 2425.197  2515.316  2635.571  2737.774  2810.107  2889.861  2968.925\n",
      "  3067.135  3183.538  3308.262  3437.103  3535.183  3622.185  3684.097\n",
      "  3788.576  3915.74   4065.44   4245.089  4432.499  4586.94   4736.99\n",
      "  4883.342  5023.823  5166.304  5303.869  5451.472  5590.82   5758.692\n",
      "  5973.97   6190.987  6360.238  6499.207  6587.653 22352.396 22835.958\n",
      " 23256.88  23800.8   24285.933 24820.009 25360.026 25844.393 26441.109\n",
      " 27102.237 27777.158 28464.249 29218.164 29959.515 30470.736 30974.659\n",
      " 31274.928 31484.435 31696.582 32018.834 32486.01  32987.675 33499.204\n",
      " 33994.383 34481.753 34867.773 35236.589 35538.256 35770.688 35947.461\n",
      " 36185.908 36538.008 36887.615  1215.72   1238.034  1284.722  1309.4\n",
      "  1332.748  1363.823  1394.361  1416.717  1438.361  1462.729  1478.52\n",
      "  1490.337  1503.901  1521.574  1555.305  1595.442  1636.453  1682.398\n",
      "  1720.394  1752.326  1774.839  1793.484  1808.082  1820.802  1828.437\n",
      "  1849.187  1868.121  1890.215  1914.699  1940.631  1966.357  1984.179\n",
      "  2007.315 13193.05  13500.429 13888.371 14338.208 14746.318 15331.415\n",
      " 15751.676 16007.086 16272.734 16561.113 16621.791 16667.022 16806.735\n",
      " 17056.755 17398.005 17759.738 18161.612 18564.062 18958.751 19340.342\n",
      " 19740.317 20157.531 20558.22  20944.937 21330.19  21705.766 22048.452\n",
      " 22408.514 22790.696 23356.591 23824.518 24290.611 24770.651]\n"
     ]
    }
   ],
   "source": [
    "print(e, p)"
   ]
  },
  {
   "cell_type": "code",
   "execution_count": 8,
   "metadata": {
    "ExecuteTime": {
     "end_time": "2021-09-14T21:48:58.409926Z",
     "start_time": "2021-09-14T21:48:58.405926Z"
    }
   },
   "outputs": [],
   "source": [
    "X = np.vstack((e, p)).T"
   ]
  },
  {
   "cell_type": "code",
   "execution_count": 9,
   "metadata": {
    "ExecuteTime": {
     "end_time": "2021-09-14T21:49:01.160659Z",
     "start_time": "2021-09-14T21:49:00.926136Z"
    }
   },
   "outputs": [],
   "source": [
    "# 工业部门\n",
    "sector1_AZ = dataset[(dataset['MSN'] == 'TNICB') & (dataset['StateCode'] == 'AZ')]\n",
    "sector1_CA = dataset[(dataset['MSN'] == 'TNICB') & (dataset['StateCode'] == 'CA')]\n",
    "sector1_NM = dataset[(dataset['MSN'] == 'TNICB') & (dataset['StateCode'] == 'NM')]\n",
    "sector1_TX = dataset[(dataset['MSN'] == 'TNICB') & (dataset['StateCode'] == 'TX')]\n",
    "# 交通部门\n",
    "sector2_AZ = dataset[(dataset['MSN'] == 'TNACB') & (dataset['StateCode'] == 'AZ')]\n",
    "sector2_CA = dataset[(dataset['MSN'] == 'TNACB') & (dataset['StateCode'] == 'CA')]\n",
    "sector2_NM = dataset[(dataset['MSN'] == 'TNACB') & (dataset['StateCode'] == 'NM')]\n",
    "sector2_TX = dataset[(dataset['MSN'] == 'TNACB') & (dataset['StateCode'] == 'TX')]\n",
    "# 商业部门\n",
    "sector3_AZ = dataset[(dataset['MSN'] == 'TNCCB') & (dataset['StateCode'] == 'AZ')]\n",
    "sector3_CA = dataset[(dataset['MSN'] == 'TNCCB') & (dataset['StateCode'] == 'CA')]\n",
    "sector3_NM = dataset[(dataset['MSN'] == 'TNCCB') & (dataset['StateCode'] == 'NM')]\n",
    "sector3_TX = dataset[(dataset['MSN'] == 'TNCCB') & (dataset['StateCode'] == 'TX')]\n",
    "# 电力部门\n",
    "sector4_AZ = dataset[(dataset['MSN'] == 'TEEIB') & (dataset['StateCode'] == 'AZ')]\n",
    "sector4_CA = dataset[(dataset['MSN'] == 'TEEIB') & (dataset['StateCode'] == 'CA')]\n",
    "sector4_NM = dataset[(dataset['MSN'] == 'TEEIB') & (dataset['StateCode'] == 'NM')]\n",
    "sector4_TX = dataset[(dataset['MSN'] == 'TEEIB') & (dataset['StateCode'] == 'TX')]\n",
    "# 住宅部门\n",
    "sector5_AZ = dataset[(dataset['MSN'] == 'TNRCB') & (dataset['StateCode'] == 'AZ')]\n",
    "sector5_CA = dataset[(dataset['MSN'] == 'TNRCB') & (dataset['StateCode'] == 'CA')]\n",
    "sector5_NM = dataset[(dataset['MSN'] == 'TNRCB') & (dataset['StateCode'] == 'NM')]\n",
    "sector5_TX = dataset[(dataset['MSN'] == 'TNRCB') & (dataset['StateCode'] == 'TX')]\n",
    "\n",
    "sector1 = np.concatenate((sector1_AZ['Data'].values[17:], sector1_CA['Data'].values[17:], sector1_NM['Data'].values[17:], sector1_TX['Data'].values[17:]))\n",
    "sector2 = np.concatenate((sector2_AZ['Data'].values[17:], sector2_CA['Data'].values[17:], sector2_NM['Data'].values[17:], sector2_TX['Data'].values[17:]))\n",
    "sector3 = np.concatenate((sector3_AZ['Data'].values[17:], sector3_CA['Data'].values[17:], sector3_NM['Data'].values[17:], sector3_TX['Data'].values[17:]))\n",
    "sector4 = np.concatenate((sector4_AZ['Data'].values[17:], sector4_CA['Data'].values[17:], sector4_NM['Data'].values[17:], sector4_TX['Data'].values[17:]))\n",
    "sector5 = np.concatenate((sector5_AZ['Data'].values[17:], sector5_CA['Data'].values[17:], sector5_NM['Data'].values[17:], sector5_TX['Data'].values[17:]))"
   ]
  },
  {
   "cell_type": "code",
   "execution_count": 10,
   "metadata": {
    "ExecuteTime": {
     "end_time": "2021-09-14T21:49:20.530206Z",
     "start_time": "2021-09-14T21:49:20.462200Z"
    }
   },
   "outputs": [
    {
     "data": {
      "text/plain": [
       "LinearRegression()"
      ]
     },
     "execution_count": 10,
     "metadata": {},
     "output_type": "execute_result"
    }
   ],
   "source": [
    "polyfea = PolynomialFeatures(degree=2)\n",
    "X_c1 = polyfea.fit_transform(X)\n",
    "model_c1 = LinearRegression()\n",
    "model_c1.fit(X_c1, sector1)"
   ]
  },
  {
   "cell_type": "code",
   "execution_count": 11,
   "metadata": {
    "ExecuteTime": {
     "end_time": "2021-09-14T21:49:21.748899Z",
     "start_time": "2021-09-14T21:49:21.733754Z"
    }
   },
   "outputs": [
    {
     "data": {
      "text/plain": [
       "array([ 0.00000000e+00, -2.79879391e+00,  7.73619191e+02, -2.23399827e-05,\n",
       "        2.09279376e-03, -6.44175993e-02])"
      ]
     },
     "execution_count": 11,
     "metadata": {},
     "output_type": "execute_result"
    }
   ],
   "source": [
    "model_c1.coef_"
   ]
  },
  {
   "cell_type": "code",
   "execution_count": 12,
   "metadata": {
    "ExecuteTime": {
     "end_time": "2021-09-14T21:49:23.352018Z",
     "start_time": "2021-09-14T21:49:23.341015Z"
    }
   },
   "outputs": [
    {
     "data": {
      "text/plain": [
       "-1501790.763336393"
      ]
     },
     "execution_count": 12,
     "metadata": {},
     "output_type": "execute_result"
    }
   ],
   "source": [
    "model_c1.intercept_"
   ]
  },
  {
   "cell_type": "code",
   "execution_count": 13,
   "metadata": {
    "ExecuteTime": {
     "end_time": "2021-09-14T21:49:24.220214Z",
     "start_time": "2021-09-14T21:49:24.213205Z"
    }
   },
   "outputs": [
    {
     "data": {
      "text/plain": [
       "-1501790.7640017553"
      ]
     },
     "execution_count": 13,
     "metadata": {},
     "output_type": "execute_result"
    }
   ],
   "source": [
    "-2.23399827e-05 + -1501790.7639794154"
   ]
  },
  {
   "cell_type": "code",
   "execution_count": 14,
   "metadata": {
    "ExecuteTime": {
     "end_time": "2021-09-14T21:49:26.268913Z",
     "start_time": "2021-09-14T21:49:26.260911Z"
    }
   },
   "outputs": [
    {
     "data": {
      "text/plain": [
       "array([ -0.17847134, 101.68327626])"
      ]
     },
     "execution_count": 14,
     "metadata": {},
     "output_type": "execute_result"
    }
   ],
   "source": [
    "model_c2 = LinearRegression()\n",
    "model_c2.fit(X, sector2)\n",
    "model_c2.coef_"
   ]
  },
  {
   "cell_type": "code",
   "execution_count": 15,
   "metadata": {
    "ExecuteTime": {
     "end_time": "2021-09-14T21:49:27.223259Z",
     "start_time": "2021-09-14T21:49:27.213255Z"
    }
   },
   "outputs": [
    {
     "data": {
      "text/plain": [
       "97794.8943954797"
      ]
     },
     "execution_count": 15,
     "metadata": {},
     "output_type": "execute_result"
    }
   ],
   "source": [
    "model_c2.intercept_"
   ]
  },
  {
   "cell_type": "code",
   "execution_count": 16,
   "metadata": {
    "ExecuteTime": {
     "end_time": "2021-09-14T21:49:31.442834Z",
     "start_time": "2021-09-14T21:49:31.436834Z"
    }
   },
   "outputs": [
    {
     "data": {
      "text/plain": [
       "array([-0.10993473, 24.44360523])"
      ]
     },
     "execution_count": 16,
     "metadata": {},
     "output_type": "execute_result"
    }
   ],
   "source": [
    "model_c3 = LinearRegression()\n",
    "model_c3.fit(X, sector3)\n",
    "model_c3.coef_"
   ]
  },
  {
   "cell_type": "code",
   "execution_count": 17,
   "metadata": {
    "ExecuteTime": {
     "end_time": "2021-09-14T21:49:32.591125Z",
     "start_time": "2021-09-14T21:49:32.581124Z"
    }
   },
   "outputs": [
    {
     "data": {
      "text/plain": [
       "30153.476473762188"
      ]
     },
     "execution_count": 17,
     "metadata": {},
     "output_type": "execute_result"
    }
   ],
   "source": [
    "model_c3.intercept_"
   ]
  },
  {
   "cell_type": "code",
   "execution_count": 18,
   "metadata": {
    "ExecuteTime": {
     "end_time": "2021-09-14T21:49:34.119672Z",
     "start_time": "2021-09-14T21:49:33.980737Z"
    }
   },
   "outputs": [
    {
     "data": {
      "image/png": "[encoded data removed]",
      "text/plain": [
       "<Figure size 432x288 with 1 Axes>"
      ]
     },
     "metadata": {
      "needs_background": "light"
     },
     "output_type": "display_data"
    }
   ],
   "source": [
    "plt.scatter(t, sector4_AZ['Data'].values[17:])\n",
    "plt.show()"
   ]
  },
  {
   "cell_type": "code",
   "execution_count": 19,
   "metadata": {
    "ExecuteTime": {
     "end_time": "2021-09-14T21:49:35.586890Z",
     "start_time": "2021-09-14T21:49:35.484930Z"
    }
   },
   "outputs": [
    {
     "data": {
      "image/png": "[encoded data removed]",
      "text/plain": [
       "<Figure size 432x288 with 1 Axes>"
      ]
     },
     "metadata": {
      "needs_background": "light"
     },
     "output_type": "display_data"
    }
   ],
   "source": [
    "plt.scatter(t, sector4_CA['Data'].values[17:])\n",
    "plt.show()"
   ]
  },
  {
   "cell_type": "code",
   "execution_count": 20,
   "metadata": {
    "ExecuteTime": {
     "end_time": "2021-09-14T21:49:38.255055Z",
     "start_time": "2021-09-14T21:49:38.148800Z"
    }
   },
   "outputs": [
    {
     "data": {
      "image/png": "[encoded data removed]",
      "text/plain": [
       "<Figure size 432x288 with 1 Axes>"
      ]
     },
     "metadata": {
      "needs_background": "light"
     },
     "output_type": "display_data"
    }
   ],
   "source": [
    "plt.scatter(t, sector4_NM['Data'].values[17:])\n",
    "plt.show()"
   ]
  },
  {
   "cell_type": "code",
   "execution_count": 21,
   "metadata": {
    "ExecuteTime": {
     "end_time": "2021-09-14T21:49:39.335272Z",
     "start_time": "2021-09-14T21:49:39.236968Z"
    }
   },
   "outputs": [
    {
     "data": {
      "image/png": "[encoded data removed]",
      "text/plain": [
       "<Figure size 432x288 with 1 Axes>"
      ]
     },
     "metadata": {
      "needs_background": "light"
     },
     "output_type": "display_data"
    }
   ],
   "source": [
    "plt.scatter(t, sector4_TX['Data'].values[17:])\n",
    "plt.show()"
   ]
  },
  {
   "cell_type": "code",
   "execution_count": 22,
   "metadata": {
    "ExecuteTime": {
     "end_time": "2021-09-14T21:49:42.001121Z",
     "start_time": "2021-09-14T21:49:41.997130Z"
    }
   },
   "outputs": [
    {
     "data": {
      "text/plain": [
       "array([ 0.13838908, 52.77110137])"
      ]
     },
     "execution_count": 22,
     "metadata": {},
     "output_type": "execute_result"
    }
   ],
   "source": [
    "model_c4 = LinearRegression()\n",
    "model_c4.fit(X, sector4)\n",
    "model_c4.coef_"
   ]
  },
  {
   "cell_type": "code",
   "execution_count": 23,
   "metadata": {
    "ExecuteTime": {
     "end_time": "2021-09-14T21:49:42.795021Z",
     "start_time": "2021-09-14T21:49:42.781016Z"
    }
   },
   "outputs": [
    {
     "data": {
      "text/plain": [
       "572574.6187711618"
      ]
     },
     "execution_count": 23,
     "metadata": {},
     "output_type": "execute_result"
    }
   ],
   "source": [
    "model_c4.intercept_"
   ]
  },
  {
   "cell_type": "code",
   "execution_count": 24,
   "metadata": {
    "ExecuteTime": {
     "end_time": "2021-09-14T21:49:43.823505Z",
     "start_time": "2021-09-14T21:49:43.725297Z"
    }
   },
   "outputs": [
    {
     "data": {
      "image/png": "[encoded data removed]",
      "text/plain": [
       "<Figure size 432x288 with 1 Axes>"
      ]
     },
     "metadata": {
      "needs_background": "light"
     },
     "output_type": "display_data"
    }
   ],
   "source": [
    "plt.scatter(t, sector5_AZ['Data'].values[17:])\n",
    "plt.show()"
   ]
  },
  {
   "cell_type": "code",
   "execution_count": 25,
   "metadata": {
    "ExecuteTime": {
     "end_time": "2021-09-14T21:49:46.533500Z",
     "start_time": "2021-09-14T21:49:46.437003Z"
    }
   },
   "outputs": [
    {
     "data": {
      "image/png": "[encoded data removed]",
      "text/plain": [
       "<Figure size 432x288 with 1 Axes>"
      ]
     },
     "metadata": {
      "needs_background": "light"
     },
     "output_type": "display_data"
    }
   ],
   "source": [
    "plt.scatter(t, sector5_CA['Data'].values[17:])\n",
    "plt.show()"
   ]
  },
  {
   "cell_type": "code",
   "execution_count": 26,
   "metadata": {
    "ExecuteTime": {
     "end_time": "2021-09-14T21:49:47.407086Z",
     "start_time": "2021-09-14T21:49:47.317025Z"
    }
   },
   "outputs": [
    {
     "data": {
      "image/png": "[encoded data removed]",
      "text/plain": [
       "<Figure size 432x288 with 1 Axes>"
      ]
     },
     "metadata": {
      "needs_background": "light"
     },
     "output_type": "display_data"
    }
   ],
   "source": [
    "plt.scatter(t, sector5_NM['Data'].values[17:])\n",
    "plt.show()"
   ]
  },
  {
   "cell_type": "code",
   "execution_count": 27,
   "metadata": {
    "ExecuteTime": {
     "end_time": "2021-09-14T21:49:50.226951Z",
     "start_time": "2021-09-14T21:49:50.140932Z"
    }
   },
   "outputs": [
    {
     "data": {
      "image/png": "[encoded data removed]",
      "text/plain": [
       "<Figure size 432x288 with 1 Axes>"
      ]
     },
     "metadata": {
      "needs_background": "light"
     },
     "output_type": "display_data"
    }
   ],
   "source": [
    "plt.scatter(t, sector5_TX['Data'].values[17:])\n",
    "plt.show()"
   ]
  },
  {
   "cell_type": "code",
   "execution_count": 28,
   "metadata": {
    "ExecuteTime": {
     "end_time": "2021-09-14T21:49:51.039685Z",
     "start_time": "2021-09-14T21:49:51.028683Z"
    }
   },
   "outputs": [
    {
     "data": {
      "text/plain": [
       "array([-0.3659615 , 42.01269171])"
      ]
     },
     "execution_count": 28,
     "metadata": {},
     "output_type": "execute_result"
    }
   ],
   "source": [
    "model_c5 = LinearRegression()\n",
    "model_c5.fit(X, sector5)\n",
    "model_c5.coef_"
   ]
  },
  {
   "cell_type": "code",
   "execution_count": 29,
   "metadata": {
    "ExecuteTime": {
     "end_time": "2021-09-14T21:49:51.777769Z",
     "start_time": "2021-09-14T21:49:51.772763Z"
    }
   },
   "outputs": [
    {
     "data": {
      "text/plain": [
       "1375.1623983856407"
      ]
     },
     "execution_count": 29,
     "metadata": {},
     "output_type": "execute_result"
    }
   ],
   "source": [
    "model_c5.intercept_"
   ]
  },
  {
   "cell_type": "code",
   "execution_count": 30,
   "metadata": {
    "ExecuteTime": {
     "end_time": "2021-09-14T21:49:52.801713Z",
     "start_time": "2021-09-14T21:49:52.709035Z"
    }
   },
   "outputs": [
    {
     "data": {
      "image/png": "[encoded data removed]",
      "text/plain": [
       "<Figure size 432x288 with 1 Axes>"
      ]
     },
     "metadata": {
      "needs_background": "light"
     },
     "output_type": "display_data"
    }
   ],
   "source": [
    "plt.scatter(t, sector1_AZ['Data'].values[17:])\n",
    "plt.show()"
   ]
  },
  {
   "cell_type": "code",
   "execution_count": 31,
   "metadata": {
    "ExecuteTime": {
     "end_time": "2021-09-14T21:49:57.689851Z",
     "start_time": "2021-09-14T21:49:57.596885Z"
    }
   },
   "outputs": [
    {
     "data": {
      "image/png": "[encoded data removed]",
      "text/plain": [
       "<Figure size 432x288 with 1 Axes>"
      ]
     },
     "metadata": {
      "needs_background": "light"
     },
     "output_type": "display_data"
    }
   ],
   "source": [
    "plt.scatter(t, sector1_CA['Data'].values[17:])\n",
    "plt.show()"
   ]
  },
  {
   "cell_type": "code",
   "execution_count": 32,
   "metadata": {
    "ExecuteTime": {
     "end_time": "2021-09-14T21:49:58.874479Z",
     "start_time": "2021-09-14T21:49:58.781271Z"
    }
   },
   "outputs": [
    {
     "data": {
      "image/png": "[encoded data removed]",
      "text/plain": [
       "<Figure size 432x288 with 1 Axes>"
      ]
     },
     "metadata": {
      "needs_background": "light"
     },
     "output_type": "display_data"
    }
   ],
   "source": [
    "plt.scatter(t, sector1_NM['Data'].values[17:])\n",
    "plt.show()"
   ]
  },
  {
   "cell_type": "code",
   "execution_count": 33,
   "metadata": {
    "ExecuteTime": {
     "end_time": "2021-09-14T21:50:02.621974Z",
     "start_time": "2021-09-14T21:50:02.532955Z"
    }
   },
   "outputs": [
    {
     "data": {
      "image/png": "[encoded data removed]",
      "text/plain": [
       "<Figure size 432x288 with 1 Axes>"
      ]
     },
     "metadata": {
      "needs_background": "light"
     },
     "output_type": "display_data"
    }
   ],
   "source": [
    "plt.scatter(t, sector1_TX['Data'].values[17:])\n",
    "plt.show()"
   ]
  },
  {
   "cell_type": "code",
   "execution_count": 34,
   "metadata": {
    "ExecuteTime": {
     "end_time": "2021-09-14T21:50:03.756362Z",
     "start_time": "2021-09-14T21:50:03.653106Z"
    }
   },
   "outputs": [
    {
     "data": {
      "image/png": "[encoded data removed]",
      "text/plain": [
       "<Figure size 432x288 with 1 Axes>"
      ]
     },
     "metadata": {
      "needs_background": "light"
     },
     "output_type": "display_data"
    }
   ],
   "source": [
    "plt.scatter(t, sector2_AZ['Data'].values[17:])\n",
    "plt.show()"
   ]
  },
  {
   "cell_type": "code",
   "execution_count": 35,
   "metadata": {
    "ExecuteTime": {
     "end_time": "2021-09-14T21:50:04.923403Z",
     "start_time": "2021-09-14T21:50:04.829784Z"
    }
   },
   "outputs": [
    {
     "data": {
      "image/png": "[encoded data removed]",
      "text/plain": [
       "<Figure size 432x288 with 1 Axes>"
      ]
     },
     "metadata": {
      "needs_background": "light"
     },
     "output_type": "display_data"
    }
   ],
   "source": [
    "plt.scatter(t, sector2_CA['Data'].values[17:])\n",
    "plt.show()"
   ]
  },
  {
   "cell_type": "code",
   "execution_count": 36,
   "metadata": {
    "ExecuteTime": {
     "end_time": "2021-09-14T21:50:11.869854Z",
     "start_time": "2021-09-14T21:50:11.772914Z"
    }
   },
   "outputs": [
    {
     "data": {
      "image/png": "[encoded data removed]",
      "text/plain": [
       "<Figure size 432x288 with 1 Axes>"
      ]
     },
     "metadata": {
      "needs_background": "light"
     },
     "output_type": "display_data"
    }
   ],
   "source": [
    "plt.scatter(t, sector2_NM['Data'].values[17:])\n",
    "plt.show()"
   ]
  },
  {
   "cell_type": "code",
   "execution_count": 37,
   "metadata": {
    "ExecuteTime": {
     "end_time": "2021-09-14T21:50:13.448004Z",
     "start_time": "2021-09-14T21:50:13.348990Z"
    }
   },
   "outputs": [
    {
     "data": {
      "image/png": "[encoded data removed]",
      "text/plain": [
       "<Figure size 432x288 with 1 Axes>"
      ]
     },
     "metadata": {
      "needs_background": "light"
     },
     "output_type": "display_data"
    }
   ],
   "source": [
    "plt.scatter(t, sector2_TX['Data'].values[17:])\n",
    "plt.show()"
   ]
  },
  {
   "cell_type": "code",
   "execution_count": 38,
   "metadata": {
    "ExecuteTime": {
     "end_time": "2021-09-14T21:50:17.175541Z",
     "start_time": "2021-09-14T21:50:17.084948Z"
    }
   },
   "outputs": [
    {
     "data": {
      "image/png": "[encoded data removed]",
      "text/plain": [
       "<Figure size 432x288 with 1 Axes>"
      ]
     },
     "metadata": {
      "needs_background": "light"
     },
     "output_type": "display_data"
    }
   ],
   "source": [
    "plt.scatter(t, sector3_AZ['Data'].values[17:])\n",
    "plt.show()"
   ]
  },
  {
   "cell_type": "code",
   "execution_count": 39,
   "metadata": {
    "ExecuteTime": {
     "end_time": "2021-09-14T21:50:18.651100Z",
     "start_time": "2021-09-14T21:50:18.565072Z"
    }
   },
   "outputs": [
    {
     "data": {
      "image/png": "[encoded data removed]",
      "text/plain": [
       "<Figure size 432x288 with 1 Axes>"
      ]
     },
     "metadata": {
      "needs_background": "light"
     },
     "output_type": "display_data"
    }
   ],
   "source": [
    "plt.scatter(t, sector3_CA['Data'].values[17:])\n",
    "plt.show()"
   ]
  },
  {
   "cell_type": "code",
   "execution_count": 40,
   "metadata": {
    "ExecuteTime": {
     "end_time": "2021-09-14T21:50:25.551952Z",
     "start_time": "2021-09-14T21:50:25.460932Z"
    }
   },
   "outputs": [
    {
     "data": {
      "image/png": "[encoded data removed]",
      "text/plain": [
       "<Figure size 432x288 with 1 Axes>"
      ]
     },
     "metadata": {
      "needs_background": "light"
     },
     "output_type": "display_data"
    }
   ],
   "source": [
    "plt.scatter(t, sector3_NM['Data'].values[17:])\n",
    "plt.show()"
   ]
  },
  {
   "cell_type": "code",
   "execution_count": 41,
   "metadata": {
    "ExecuteTime": {
     "end_time": "2021-09-14T21:50:26.709848Z",
     "start_time": "2021-09-14T21:50:26.620730Z"
    }
   },
   "outputs": [
    {
     "data": {
      "image/png": "[encoded data removed]",
      "text/plain": [
       "<Figure size 432x288 with 1 Axes>"
      ]
     },
     "metadata": {
      "needs_background": "light"
     },
     "output_type": "display_data"
    }
   ],
   "source": [
    "plt.scatter(t, sector3_TX['Data'].values[17:])\n",
    "plt.show()"
   ]
  },
  {
   "cell_type": "code",
   "execution_count": 42,
   "metadata": {
    "ExecuteTime": {
     "end_time": "2021-09-14T21:50:28.406676Z",
     "start_time": "2021-09-14T21:50:28.292915Z"
    }
   },
   "outputs": [
    {
     "data": {
      "image/png": "[encoded data removed]",
      "text/plain": [
       "<Figure size 432x288 with 1 Axes>"
      ]
     },
     "metadata": {
      "needs_background": "light"
     },
     "output_type": "display_data"
    }
   ],
   "source": [
    "plt.scatter(t, sector1_AZ['Data'].values[17:])\n",
    "plt.scatter(t, sector1_CA['Data'].values[17:])\n",
    "plt.scatter(t, sector1_NM['Data'].values[17:])\n",
    "plt.scatter(t, sector1_TX['Data'].values[17:])\n",
    "\n",
    "plt.show()"
   ]
  },
  {
   "cell_type": "code",
   "execution_count": 43,
   "metadata": {
    "ExecuteTime": {
     "end_time": "2021-09-14T21:50:31.692021Z",
     "start_time": "2021-09-14T21:50:31.596745Z"
    }
   },
   "outputs": [
    {
     "data": {
      "image/png": "[encoded data removed]",
      "text/plain": [
       "<Figure size 432x288 with 1 Axes>"
      ]
     },
     "metadata": {
      "needs_background": "light"
     },
     "output_type": "display_data"
    }
   ],
   "source": [
    "plt.plot(t, E_AZ['Data'].values)\n",
    "plt.show()"
   ]
  },
  {
   "cell_type": "code",
   "execution_count": 44,
   "metadata": {
    "ExecuteTime": {
     "end_time": "2021-09-14T21:50:32.781508Z",
     "start_time": "2021-09-14T21:50:32.685469Z"
    }
   },
   "outputs": [
    {
     "data": {
      "image/png": "[encoded data removed]",
      "text/plain": [
       "<Figure size 432x288 with 1 Axes>"
      ]
     },
     "metadata": {
      "needs_background": "light"
     },
     "output_type": "display_data"
    }
   ],
   "source": [
    "plt.plot(t, E_CA['Data'].values)\n",
    "plt.show()"
   ]
  },
  {
   "cell_type": "code",
   "execution_count": 45,
   "metadata": {
    "ExecuteTime": {
     "end_time": "2021-09-14T21:50:33.926530Z",
     "start_time": "2021-09-14T21:50:33.845282Z"
    }
   },
   "outputs": [
    {
     "data": {
      "image/png": "[encoded data removed]",
      "text/plain": [
       "<Figure size 432x288 with 1 Axes>"
      ]
     },
     "metadata": {
      "needs_background": "light"
     },
     "output_type": "display_data"
    }
   ],
   "source": [
    "plt.plot(t, E_NM['Data'].values)\n",
    "plt.show()"
   ]
  },
  {
   "cell_type": "code",
   "execution_count": 46,
   "metadata": {
    "ExecuteTime": {
     "end_time": "2021-09-14T21:50:36.387174Z",
     "start_time": "2021-09-14T21:50:36.293216Z"
    }
   },
   "outputs": [
    {
     "data": {
      "image/png": "[encoded data removed]",
      "text/plain": [
       "<Figure size 432x288 with 1 Axes>"
      ]
     },
     "metadata": {
      "needs_background": "light"
     },
     "output_type": "display_data"
    }
   ],
   "source": [
    "plt.plot(t, E_TX['Data'].values)\n",
    "plt.show()"
   ]
  },
  {
   "cell_type": "code",
   "execution_count": 47,
   "metadata": {
    "ExecuteTime": {
     "end_time": "2021-09-14T21:50:37.072671Z",
     "start_time": "2021-09-14T21:50:36.996654Z"
    }
   },
   "outputs": [
    {
     "data": {
      "image/png": "[encoded data removed]",
      "text/plain": [
       "<Figure size 432x288 with 1 Axes>"
      ]
     },
     "metadata": {
      "needs_background": "light"
     },
     "output_type": "display_data"
    }
   ],
   "source": [
    "plt.plot(t, P_AZ['Data'].values[17:])\n",
    "plt.show()"
   ]
  },
  {
   "cell_type": "code",
   "execution_count": 48,
   "metadata": {
    "ExecuteTime": {
     "end_time": "2021-09-14T21:50:38.290858Z",
     "start_time": "2021-09-14T21:50:38.196739Z"
    }
   },
   "outputs": [
    {
     "data": {
      "image/png": "[encoded data removed]",
      "text/plain": [
       "<Figure size 432x288 with 1 Axes>"
      ]
     },
     "metadata": {
      "needs_background": "light"
     },
     "output_type": "display_data"
    }
   ],
   "source": [
    "plt.plot(t, P_CA['Data'].values[17:])\n",
    "plt.show()"
   ]
  },
  {
   "cell_type": "code",
   "execution_count": 49,
   "metadata": {
    "ExecuteTime": {
     "end_time": "2021-09-14T21:50:41.036991Z",
     "start_time": "2021-09-14T21:50:40.940932Z"
    }
   },
   "outputs": [
    {
     "data": {
      "image/png": "[encoded data removed]",
      "text/plain": [
       "<Figure size 432x288 with 1 Axes>"
      ]
     },
     "metadata": {
      "needs_background": "light"
     },
     "output_type": "display_data"
    }
   ],
   "source": [
    "plt.plot(t, P_NM['Data'].values[17:])\n",
    "plt.show()"
   ]
  },
  {
   "cell_type": "code",
   "execution_count": 50,
   "metadata": {
    "ExecuteTime": {
     "end_time": "2021-09-14T21:50:41.930320Z",
     "start_time": "2021-09-14T21:50:41.836697Z"
    }
   },
   "outputs": [
    {
     "data": {
      "image/png": "[encoded data removed]",
      "text/plain": [
       "<Figure size 432x288 with 1 Axes>"
      ]
     },
     "metadata": {
      "needs_background": "light"
     },
     "output_type": "display_data"
    }
   ],
   "source": [
    "plt.plot(t, P_NM['Data'].values[17:])\n",
    "plt.show()"
   ]
  },
  {
   "cell_type": "code",
   "execution_count": 51,
   "metadata": {
    "ExecuteTime": {
     "end_time": "2021-09-14T21:50:45.462202Z",
     "start_time": "2021-09-14T21:50:45.453193Z"
    }
   },
   "outputs": [],
   "source": [
    "A = np.array([[1, 0.2, 0.25], [5, 1, 0.5], [4, 2, 1]])"
   ]
  },
  {
   "cell_type": "code",
   "execution_count": 52,
   "metadata": {
    "ExecuteTime": {
     "end_time": "2021-09-14T21:50:46.284391Z",
     "start_time": "2021-09-14T21:50:46.262029Z"
    }
   },
   "outputs": [],
   "source": [
    "a, b = np.linalg.eig(A)"
   ]
  },
  {
   "cell_type": "code",
   "execution_count": 53,
   "metadata": {
    "ExecuteTime": {
     "end_time": "2021-09-14T21:50:47.096802Z",
     "start_time": "2021-09-14T21:50:47.092803Z"
    }
   },
   "outputs": [
    {
     "data": {
      "text/plain": [
       "array([ 3.09401511+0.j        , -0.04700755+0.53728433j,\n",
       "       -0.04700755-0.53728433j])"
      ]
     },
     "execution_count": 53,
     "metadata": {},
     "output_type": "execute_result"
    }
   ],
   "source": [
    "a"
   ]
  },
  {
   "cell_type": "code",
   "execution_count": 54,
   "metadata": {
    "ExecuteTime": {
     "end_time": "2021-09-14T21:50:47.882030Z",
     "start_time": "2021-09-14T21:50:47.877028Z"
    }
   },
   "outputs": [
    {
     "data": {
      "text/plain": [
       "array([[ 0.15067977+0.j        , -0.07533988-0.13049251j,\n",
       "        -0.07533988+0.13049251j],\n",
       "       [ 0.55510902+0.j        , -0.27755451+0.48073851j,\n",
       "        -0.27755451-0.48073851j],\n",
       "       [ 0.81801564+0.j        ,  0.81801564+0.j        ,\n",
       "         0.81801564-0.j        ]])"
      ]
     },
     "execution_count": 54,
     "metadata": {},
     "output_type": "execute_result"
    }
   ],
   "source": [
    "b"
   ]
  },
  {
   "cell_type": "code",
   "execution_count": 55,
   "metadata": {
    "ExecuteTime": {
     "end_time": "2021-09-14T21:50:48.680226Z",
     "start_time": "2021-09-14T21:50:48.660790Z"
    }
   },
   "outputs": [],
   "source": [
    "ci = (a[0] - 3) / 2"
   ]
  },
  {
   "cell_type": "code",
   "execution_count": 56,
   "metadata": {
    "ExecuteTime": {
     "end_time": "2021-09-14T21:50:49.261381Z",
     "start_time": "2021-09-14T21:50:49.244728Z"
    }
   },
   "outputs": [
    {
     "data": {
      "text/plain": [
       "(0.08104750691856076+0j)"
      ]
     },
     "execution_count": 56,
     "metadata": {},
     "output_type": "execute_result"
    }
   ],
   "source": [
    "ci / 0.58"
   ]
  },
  {
   "cell_type": "code",
   "execution_count": 57,
   "metadata": {
    "ExecuteTime": {
     "end_time": "2021-09-14T21:50:49.913746Z",
     "start_time": "2021-09-14T21:50:49.900742Z"
    }
   },
   "outputs": [
    {
     "data": {
      "text/plain": [
       "(0.04700755401276524+0j)"
      ]
     },
     "execution_count": 57,
     "metadata": {},
     "output_type": "execute_result"
    }
   ],
   "source": [
    "ci"
   ]
  },
  {
   "cell_type": "code",
   "execution_count": 58,
   "metadata": {
    "ExecuteTime": {
     "end_time": "2021-09-14T21:50:52.153642Z",
     "start_time": "2021-09-14T21:50:52.149642Z"
    }
   },
   "outputs": [],
   "source": [
    "a1 = 0.15067977\n",
    "a2 = 0.55510902\n",
    "a3 = 0.81801564"
   ]
  },
  {
   "cell_type": "code",
   "execution_count": 59,
   "metadata": {
    "ExecuteTime": {
     "end_time": "2021-09-14T21:50:52.736662Z",
     "start_time": "2021-09-14T21:50:52.732661Z"
    }
   },
   "outputs": [
    {
     "data": {
      "text/plain": [
       "0.09888392961293595"
      ]
     },
     "execution_count": 59,
     "metadata": {},
     "output_type": "execute_result"
    }
   ],
   "source": [
    "a1/(a1+a2+a3)"
   ]
  },
  {
   "cell_type": "code",
   "execution_count": 60,
   "metadata": {
    "ExecuteTime": {
     "end_time": "2021-09-14T21:50:53.337193Z",
     "start_time": "2021-09-14T21:50:53.333193Z"
    }
   },
   "outputs": [
    {
     "data": {
      "text/plain": [
       "0.36429151213322036"
      ]
     },
     "execution_count": 60,
     "metadata": {},
     "output_type": "execute_result"
    }
   ],
   "source": [
    "a2/(a1+a2+a3)"
   ]
  },
  {
   "cell_type": "code",
   "execution_count": 61,
   "metadata": {
    "ExecuteTime": {
     "end_time": "2021-09-14T21:50:54.101788Z",
     "start_time": "2021-09-14T21:50:54.084774Z"
    }
   },
   "outputs": [
    {
     "data": {
      "text/plain": [
       "0.5368245582538437"
      ]
     },
     "execution_count": 61,
     "metadata": {},
     "output_type": "execute_result"
    }
   ],
   "source": [
    "a3/(a1+a2+a3)"
   ]
  },
  {
   "cell_type": "code",
   "execution_count": null,
   "metadata": {
    "collapsed": true
   },
   "outputs": [],
   "source": []
  }
 ],
 "metadata": {
  "kernelspec": {
   "display_name": "Python 3",
   "language": "python",
   "name": "python3"
  },
  "language_info": {
   "codemirror_mode": {
    "name": "ipython",
    "version": 3
   },
   "file_extension": ".py",
   "mimetype": "text/x-python",
   "name": "python",
   "nbconvert_exporter": "python",
   "pygments_lexer": "ipython3",
   "version": "3.8.5"
  },
  "varInspector": {
   "cols": {
    "lenName": 16,
    "lenType": 16,
    "lenVar": 40
   },
   "kernels_config": {
    "python": {
     "delete_cmd_postfix": "",
     "delete_cmd_prefix": "del ",
     "library": "var_list.py",
     "varRefreshCmd": "print(var_dic_list())"
    },
    "r": {
     "delete_cmd_postfix": ") ",
     "delete_cmd_prefix": "rm(",
     "library": "var_list.r",
     "varRefreshCmd": "cat(var_dic_list()) "
    }
   },
   "types_to_exclude": [
    "module",
    "function",
    "builtin_function_or_method",
    "instance",
    "_Feature"
   ],
   "window_display": false
  }
 },
 "nbformat": 4,
 "nbformat_minor": 2
}
