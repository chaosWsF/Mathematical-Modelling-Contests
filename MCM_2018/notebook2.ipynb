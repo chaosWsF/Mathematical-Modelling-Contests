{
 "cells": [
  {
   "cell_type": "code",
   "execution_count": 1,
   "metadata": {
    "ExecuteTime": {
     "end_time": "2021-09-14T22:03:04.597497Z",
     "start_time": "2021-09-14T22:02:58.311835Z"
    }
   },
   "outputs": [],
   "source": [
    "import pandas as pd\n",
    "datafile = './ProblemCData.xlsx'\n",
    "dataset = pd.read_excel(datafile)"
   ]
  },
  {
   "cell_type": "code",
   "execution_count": 2,
   "metadata": {
    "ExecuteTime": {
     "end_time": "2021-09-14T22:03:05.436382Z",
     "start_time": "2021-09-14T22:03:05.332956Z"
    }
   },
   "outputs": [],
   "source": [
    "E_AZ = dataset[(dataset['MSN'] == 'GDPRX') & (dataset['StateCode'] == 'AZ')]\n",
    "E_CA = dataset[(dataset['MSN'] == 'GDPRX') & (dataset['StateCode'] == 'CA')]\n",
    "E_NM = dataset[(dataset['MSN'] == 'GDPRX') & (dataset['StateCode'] == 'NM')]\n",
    "E_TX = dataset[(dataset['MSN'] == 'GDPRX') & (dataset['StateCode'] == 'TX')]\n",
    "\n",
    "P_AZ = dataset[(dataset['MSN'] == 'TPOPP') & (dataset['StateCode'] == 'AZ')]\n",
    "P_CA = dataset[(dataset['MSN'] == 'TPOPP') & (dataset['StateCode'] == 'CA')]\n",
    "P_NM = dataset[(dataset['MSN'] == 'TPOPP') & (dataset['StateCode'] == 'NM')]\n",
    "P_TX = dataset[(dataset['MSN'] == 'TPOPP') & (dataset['StateCode'] == 'TX')]"
   ]
  },
  {
   "cell_type": "code",
   "execution_count": 3,
   "metadata": {
    "ExecuteTime": {
     "end_time": "2021-09-14T22:03:06.428937Z",
     "start_time": "2021-09-14T22:03:06.420935Z"
    }
   },
   "outputs": [],
   "source": [
    "import numpy as np\n",
    "\n",
    "t1 = np.array([y for y in range(1977, 2010)])\n",
    "t2 = np.array([y for y in range(1960, 2010)])"
   ]
  },
  {
   "cell_type": "code",
   "execution_count": 4,
   "metadata": {
    "ExecuteTime": {
     "end_time": "2021-09-14T22:03:11.372941Z",
     "start_time": "2021-09-14T22:03:11.364939Z"
    }
   },
   "outputs": [],
   "source": [
    "y2 = P_NM['Data'].values"
   ]
  },
  {
   "cell_type": "code",
   "execution_count": 5,
   "metadata": {
    "ExecuteTime": {
     "end_time": "2021-09-14T22:03:12.105804Z",
     "start_time": "2021-09-14T22:03:12.092801Z"
    }
   },
   "outputs": [],
   "source": [
    "y2_transform = 1 / y2"
   ]
  },
  {
   "cell_type": "code",
   "execution_count": 6,
   "metadata": {
    "ExecuteTime": {
     "end_time": "2021-09-14T22:03:13.652211Z",
     "start_time": "2021-09-14T22:03:13.637209Z"
    }
   },
   "outputs": [],
   "source": [
    "t1_transform = t1 - t1[0]"
   ]
  },
  {
   "cell_type": "code",
   "execution_count": 7,
   "metadata": {
    "ExecuteTime": {
     "end_time": "2021-09-14T22:03:14.190823Z",
     "start_time": "2021-09-14T22:03:14.180820Z"
    }
   },
   "outputs": [
    {
     "data": {
      "text/plain": [
       "array([ 0,  1,  2,  3,  4,  5,  6,  7,  8,  9, 10, 11, 12, 13, 14, 15, 16,\n",
       "       17, 18, 19, 20, 21, 22, 23, 24, 25, 26, 27, 28, 29, 30, 31, 32])"
      ]
     },
     "execution_count": 7,
     "metadata": {},
     "output_type": "execute_result"
    }
   ],
   "source": [
    "t1_transform"
   ]
  },
  {
   "cell_type": "code",
   "execution_count": 8,
   "metadata": {
    "ExecuteTime": {
     "end_time": "2021-09-14T22:03:15.690959Z",
     "start_time": "2021-09-14T22:03:15.684957Z"
    }
   },
   "outputs": [],
   "source": [
    "t1_transform = t1_transform.reshape(-1, 1)"
   ]
  },
  {
   "cell_type": "code",
   "execution_count": 9,
   "metadata": {
    "ExecuteTime": {
     "end_time": "2021-09-14T22:03:22.752813Z",
     "start_time": "2021-09-14T22:03:22.029028Z"
    }
   },
   "outputs": [],
   "source": [
    "from sklearn.linear_model import LinearRegression"
   ]
  },
  {
   "cell_type": "code",
   "execution_count": null,
   "metadata": {
    "ExecuteTime": {
     "end_time": "2021-09-14T22:03:34.486790Z",
     "start_time": "2021-09-14T22:03:34.213686Z"
    }
   },
   "outputs": [],
   "source": [
    "model1 = LinearRegression()\n",
    "model1.fit(t1_transform, y1_transform)"
   ]
  },
  {
   "cell_type": "code",
   "execution_count": null,
   "metadata": {
    "ExecuteTime": {
     "end_time": "2021-09-14T22:03:36.500817Z",
     "start_time": "2021-09-14T22:03:36.492816Z"
    }
   },
   "outputs": [],
   "source": [
    "model1.coef_"
   ]
  },
  {
   "cell_type": "code",
   "execution_count": null,
   "metadata": {
    "ExecuteTime": {
     "end_time": "2021-09-14T22:03:37.315800Z",
     "start_time": "2021-09-14T22:03:37.308799Z"
    }
   },
   "outputs": [],
   "source": [
    "model1.intercept_"
   ]
  },
  {
   "cell_type": "code",
   "execution_count": null,
   "metadata": {
    "ExecuteTime": {
     "end_time": "2021-09-14T22:03:41.359994Z",
     "start_time": "2021-09-14T22:03:41.340945Z"
    }
   },
   "outputs": [],
   "source": [
    "np.exp(model1.intercept_)"
   ]
  },
  {
   "cell_type": "code",
   "execution_count": 14,
   "metadata": {
    "ExecuteTime": {
     "end_time": "2021-09-14T22:03:45.613263Z",
     "start_time": "2021-09-14T22:03:45.597237Z"
    }
   },
   "outputs": [],
   "source": [
    "t2_transform = t2 - t2[0]"
   ]
  },
  {
   "cell_type": "code",
   "execution_count": 15,
   "metadata": {
    "ExecuteTime": {
     "end_time": "2021-09-14T22:03:46.897423Z",
     "start_time": "2021-09-14T22:03:46.885420Z"
    }
   },
   "outputs": [],
   "source": [
    "from scipy.optimize import curve_fit\n",
    "\n",
    "def log_fun(t, L, r):\n",
    "    \n",
    "    return L / (1 + np.exp(-r * t))"
   ]
  },
  {
   "cell_type": "code",
   "execution_count": null,
   "metadata": {
    "ExecuteTime": {
     "end_time": "2021-09-14T22:03:49.713799Z",
     "start_time": "2021-09-14T22:03:49.700789Z"
    }
   },
   "outputs": [],
   "source": [
    "popt= curve_fit(log_fun, t2_transform, y2)"
   ]
  },
  {
   "cell_type": "code",
   "execution_count": 17,
   "metadata": {
    "ExecuteTime": {
     "end_time": "2021-09-14T22:03:56.371073Z",
     "start_time": "2021-09-14T22:03:56.357078Z"
    }
   },
   "outputs": [],
   "source": [
    "L_test, r_test = popt[0]"
   ]
  },
  {
   "cell_type": "code",
   "execution_count": 19,
   "metadata": {
    "ExecuteTime": {
     "end_time": "2021-09-14T22:04:30.559812Z",
     "start_time": "2021-09-14T22:04:30.377962Z"
    }
   },
   "outputs": [],
   "source": [
    "import matplotlib.pyplot as plt"
   ]
  },
  {
   "cell_type": "code",
   "execution_count": 20,
   "metadata": {
    "ExecuteTime": {
     "end_time": "2021-09-14T22:04:31.740600Z",
     "start_time": "2021-09-14T22:04:31.636836Z"
    }
   },
   "outputs": [
    {
     "data": {
      "image/png": "[encoded data removed]",
      "text/plain": [
       "<Figure size 432x288 with 1 Axes>"
      ]
     },
     "metadata": {
      "needs_background": "light"
     },
     "output_type": "display_data"
    }
   ],
   "source": [
    "plt.scatter(t2, y2)\n",
    "plt.plot(t2, log_fun(t2_transform, L_test, r_test))\n",
    "plt.show()"
   ]
  },
  {
   "cell_type": "code",
   "execution_count": 21,
   "metadata": {
    "ExecuteTime": {
     "end_time": "2021-09-14T22:04:36.086501Z",
     "start_time": "2021-09-14T22:04:36.069497Z"
    }
   },
   "outputs": [],
   "source": [
    "t2_transform = np.exp(-t2_transform)"
   ]
  },
  {
   "cell_type": "code",
   "execution_count": 22,
   "metadata": {
    "ExecuteTime": {
     "end_time": "2021-09-14T22:04:38.251149Z",
     "start_time": "2021-09-14T22:04:38.237146Z"
    }
   },
   "outputs": [],
   "source": [
    "t2_transform = t2_transform.reshape(-1, 1)"
   ]
  },
  {
   "cell_type": "code",
   "execution_count": 23,
   "metadata": {
    "ExecuteTime": {
     "end_time": "2021-09-14T22:04:38.905745Z",
     "start_time": "2021-09-14T22:04:38.900745Z"
    }
   },
   "outputs": [
    {
     "data": {
      "text/plain": [
       "LinearRegression()"
      ]
     },
     "execution_count": 23,
     "metadata": {},
     "output_type": "execute_result"
    }
   ],
   "source": [
    "model2 = LinearRegression()\n",
    "model2.fit(t2_transform, y2_transform)"
   ]
  },
  {
   "cell_type": "code",
   "execution_count": 24,
   "metadata": {
    "ExecuteTime": {
     "end_time": "2021-09-14T22:04:41.077787Z",
     "start_time": "2021-09-14T22:04:40.973247Z"
    }
   },
   "outputs": [
    {
     "data": {
      "text/plain": [
       "[<matplotlib.lines.Line2D at 0x1dcfbdc3340>]"
      ]
     },
     "execution_count": 24,
     "metadata": {},
     "output_type": "execute_result"
    },
    {
     "data": {
      "image/png": "[encoded data removed]",
      "text/plain": [
       "<Figure size 432x288 with 1 Axes>"
      ]
     },
     "metadata": {
      "needs_background": "light"
     },
     "output_type": "display_data"
    }
   ],
   "source": [
    "plt.scatter(t2, y2_transform)\n",
    "plt.plot(t2, model2.predict(t2_transform))"
   ]
  },
  {
   "cell_type": "code",
   "execution_count": 25,
   "metadata": {
    "ExecuteTime": {
     "end_time": "2021-09-14T22:04:44.522891Z",
     "start_time": "2021-09-14T22:04:44.516898Z"
    }
   },
   "outputs": [
    {
     "data": {
      "text/plain": [
       "array([0.00042715])"
      ]
     },
     "execution_count": 25,
     "metadata": {},
     "output_type": "execute_result"
    }
   ],
   "source": [
    "model2.coef_"
   ]
  },
  {
   "cell_type": "code",
   "execution_count": 26,
   "metadata": {
    "ExecuteTime": {
     "end_time": "2021-09-14T22:04:45.069964Z",
     "start_time": "2021-09-14T22:04:45.052961Z"
    }
   },
   "outputs": [
    {
     "data": {
      "text/plain": [
       "0.0007286959135561845"
      ]
     },
     "execution_count": 26,
     "metadata": {},
     "output_type": "execute_result"
    }
   ],
   "source": [
    "model2.intercept_"
   ]
  },
  {
   "cell_type": "code",
   "execution_count": 27,
   "metadata": {
    "ExecuteTime": {
     "end_time": "2021-09-14T22:04:45.678949Z",
     "start_time": "2021-09-14T22:04:45.668947Z"
    }
   },
   "outputs": [],
   "source": [
    "delta_t2 = t2 - t2[0]"
   ]
  },
  {
   "cell_type": "code",
   "execution_count": 28,
   "metadata": {
    "ExecuteTime": {
     "end_time": "2021-09-14T22:04:46.284740Z",
     "start_time": "2021-09-14T22:04:46.276739Z"
    }
   },
   "outputs": [
    {
     "data": {
      "text/plain": [
       "array([ 0,  1,  2,  3,  4,  5,  6,  7,  8,  9, 10, 11, 12, 13, 14, 15, 16,\n",
       "       17, 18, 19, 20, 21, 22, 23, 24, 25, 26, 27, 28, 29, 30, 31, 32, 33,\n",
       "       34, 35, 36, 37, 38, 39, 40, 41, 42, 43, 44, 45, 46, 47, 48, 49])"
      ]
     },
     "execution_count": 28,
     "metadata": {},
     "output_type": "execute_result"
    }
   ],
   "source": [
    "delta_t2"
   ]
  },
  {
   "cell_type": "code",
   "execution_count": 29,
   "metadata": {
    "ExecuteTime": {
     "end_time": "2021-09-14T22:04:47.356683Z",
     "start_time": "2021-09-14T22:04:47.260917Z"
    }
   },
   "outputs": [
    {
     "data": {
      "image/png": "[encoded data removed]",
      "text/plain": [
       "<Figure size 432x288 with 1 Axes>"
      ]
     },
     "metadata": {
      "needs_background": "light"
     },
     "output_type": "display_data"
    }
   ],
   "source": [
    "plt.plot(t2, model2.predict(t2_transform))\n",
    "plt.scatter(t2, y2_transform)\n",
    "plt.show()"
   ]
  },
  {
   "cell_type": "code",
   "execution_count": 30,
   "metadata": {
    "ExecuteTime": {
     "end_time": "2021-09-14T22:04:50.009103Z",
     "start_time": "2021-09-14T22:04:50.005102Z"
    }
   },
   "outputs": [],
   "source": [
    "def consumption(t, gamma, a, b, a1, a2, a3, a4, a5, a6):\n",
    "    p1 = a1 * np.exp(2 * gamma * t) + a3 * np.exp(gamma * t)\n",
    "    p21 = 1 / (a + b * np.exp(-t))\n",
    "    p2 = a2 * ((p21) ** 2) +a4 * p21 + a6\n",
    "    p3 = a5 * np.exp(2 * gamma * t) * p21\n",
    "    \n",
    "    return (p1 + p2 + p3) / 100"
   ]
  },
  {
   "cell_type": "code",
   "execution_count": 31,
   "metadata": {
    "ExecuteTime": {
     "end_time": "2021-09-14T22:04:50.616963Z",
     "start_time": "2021-09-14T22:04:50.604961Z"
    }
   },
   "outputs": [
    {
     "data": {
      "text/plain": [
       "542001.329077381"
      ]
     },
     "execution_count": 31,
     "metadata": {},
     "output_type": "execute_result"
    }
   ],
   "source": [
    "a = 0.000728696\n",
    "b = 0.00042715\n",
    "gamma = 0.03869189\n",
    "beta = 22370.54393\n",
    "a1 = (beta ** 2) * (-0.0000223399827)\n",
    "a3 = -3.3147724 * beta\n",
    "a2 = -0.0644175993\n",
    "a4 = 9.95E+02\n",
    "a5 = 0.00209279376 * beta\n",
    "a6 = -799892.612\n",
    "t = 2050 - 1960\n",
    "\n",
    "consumption(t, gamma, a, b, a1, a2, a3, a4, a5, a6)"
   ]
  },
  {
   "cell_type": "code",
   "execution_count": 32,
   "metadata": {
    "ExecuteTime": {
     "end_time": "2021-09-14T22:04:53.452487Z",
     "start_time": "2021-09-14T22:04:53.188948Z"
    }
   },
   "outputs": [],
   "source": [
    "# 总能源消耗\n",
    "TEC_AZ = dataset[(dataset['MSN'] == 'TETCB') & (dataset['StateCode'] == 'AZ')]\n",
    "TEC_CA = dataset[(dataset['MSN'] == 'TETCB') & (dataset['StateCode'] == 'CA')]\n",
    "TEC_NM = dataset[(dataset['MSN'] == 'TETCB') & (dataset['StateCode'] == 'NM')]\n",
    "TEC_TX = dataset[(dataset['MSN'] == 'TETCB') & (dataset['StateCode'] == 'TX')]\n",
    "\n",
    "# 各部门消耗\n",
    "# 工业\n",
    "TECI_AZ = dataset[(dataset['MSN'] == 'TNICB') & (dataset['StateCode'] == 'AZ')]\n",
    "TECI_CA = dataset[(dataset['MSN'] == 'TNICB') & (dataset['StateCode'] == 'CA')]\n",
    "TECI_NM = dataset[(dataset['MSN'] == 'TNICB') & (dataset['StateCode'] == 'NM')]\n",
    "TECI_TX = dataset[(dataset['MSN'] == 'TNICB') & (dataset['StateCode'] == 'TX')]\n",
    "# 交通\n",
    "TECT_AZ = dataset[(dataset['MSN'] == 'TNACB') & (dataset['StateCode'] == 'AZ')]\n",
    "TECT_CA = dataset[(dataset['MSN'] == 'TNACB') & (dataset['StateCode'] == 'CA')]\n",
    "TECT_NM = dataset[(dataset['MSN'] == 'TNACB') & (dataset['StateCode'] == 'NM')]\n",
    "TECT_TX = dataset[(dataset['MSN'] == 'TNACB') & (dataset['StateCode'] == 'TX')]\n",
    "# 商业\n",
    "TECC_AZ = dataset[(dataset['MSN'] == 'TNCCB') & (dataset['StateCode'] == 'AZ')]\n",
    "TECC_CA = dataset[(dataset['MSN'] == 'TNCCB') & (dataset['StateCode'] == 'CA')]\n",
    "TECC_NM = dataset[(dataset['MSN'] == 'TNCCB') & (dataset['StateCode'] == 'NM')]\n",
    "TECC_TX = dataset[(dataset['MSN'] == 'TNCCB') & (dataset['StateCode'] == 'TX')]\n",
    "# 电力\n",
    "TECE_AZ = dataset[(dataset['MSN'] == 'TEEIB') & (dataset['StateCode'] == 'AZ')]\n",
    "TECE_CA = dataset[(dataset['MSN'] == 'TEEIB') & (dataset['StateCode'] == 'CA')]\n",
    "TECE_NM = dataset[(dataset['MSN'] == 'TEEIB') & (dataset['StateCode'] == 'NM')]\n",
    "TECE_TX = dataset[(dataset['MSN'] == 'TEEIB') & (dataset['StateCode'] == 'TX')]\n",
    "# 住宅\n",
    "TECR_AZ = dataset[(dataset['MSN'] == 'TNRCB') & (dataset['StateCode'] == 'AZ')]\n",
    "TECR_CA = dataset[(dataset['MSN'] == 'TNRCB') & (dataset['StateCode'] == 'CA')]\n",
    "TECR_NM = dataset[(dataset['MSN'] == 'TNRCB') & (dataset['StateCode'] == 'NM')]\n",
    "TECR_TX = dataset[(dataset['MSN'] == 'TNRCB') & (dataset['StateCode'] == 'TX')]\n",
    "\n",
    "years = np.array([y for y in range(1960, 2010)])"
   ]
  },
  {
   "cell_type": "code",
   "execution_count": 33,
   "metadata": {
    "ExecuteTime": {
     "end_time": "2021-09-14T22:04:54.273719Z",
     "start_time": "2021-09-14T22:04:54.260712Z"
    }
   },
   "outputs": [],
   "source": [
    "import matplotlib.pyplot as plt\n",
    "import numpy as np\n",
    "from sklearn.linear_model import LinearRegression"
   ]
  },
  {
   "cell_type": "code",
   "execution_count": 34,
   "metadata": {
    "ExecuteTime": {
     "end_time": "2021-09-14T22:04:55.685427Z",
     "start_time": "2021-09-14T22:04:55.453368Z"
    }
   },
   "outputs": [
    {
     "data": {
      "image/png": "[encoded data removed]",
      "text/plain": [
       "<Figure size 432x288 with 1 Axes>"
      ]
     },
     "metadata": {
      "needs_background": "light"
     },
     "output_type": "display_data"
    }
   ],
   "source": [
    "# AZ的情况\n",
    "TEC_AZ = TEC_AZ['Data'].values\n",
    "TECI_AZ = TECI_AZ['Data'].values\n",
    "TECT_AZ = TECT_AZ['Data'].values\n",
    "TECC_AZ = TECC_AZ['Data'].values\n",
    "TECE_AZ = TECE_AZ['Data'].values\n",
    "TECR_AZ = TECR_AZ['Data'].values\n",
    "\n",
    "# 图像\n",
    "plt.plot(years, TEC_AZ, label='total')\n",
    "plt.plot(years, TECI_AZ, label='industrial')\n",
    "plt.plot(years, TECT_AZ, label='transportation')\n",
    "plt.plot(years, TECC_AZ, label='commercial')\n",
    "plt.plot(years, TECE_AZ, label='electric power')\n",
    "plt.plot(years, TECR_AZ, label='residential')\n",
    "\n",
    "plt.legend()\n",
    "plt.savefig('AZ_sector')\n",
    "plt.show()"
   ]
  },
  {
   "cell_type": "code",
   "execution_count": 35,
   "metadata": {
    "ExecuteTime": {
     "end_time": "2021-09-14T22:04:57.595433Z",
     "start_time": "2021-09-14T22:04:57.364844Z"
    }
   },
   "outputs": [
    {
     "data": {
      "image/png": "[encoded data removed]",
      "text/plain": [
       "<Figure size 432x288 with 1 Axes>"
      ]
     },
     "metadata": {
      "needs_background": "light"
     },
     "output_type": "display_data"
    }
   ],
   "source": [
    "# CA的情况\n",
    "TEC_CA = TEC_CA['Data'].values\n",
    "TECI_CA = TECI_CA['Data'].values\n",
    "TECT_CA = TECT_CA['Data'].values\n",
    "TECC_CA = TECC_CA['Data'].values\n",
    "TECE_CA = TECE_CA['Data'].values\n",
    "TECR_CA = TECR_CA['Data'].values\n",
    "\n",
    "# 图像\n",
    "plt.plot(years, TEC_CA, label='total')\n",
    "plt.plot(years, TECI_CA, label='industrial')\n",
    "plt.plot(years, TECT_CA, label='transportation')\n",
    "plt.plot(years, TECC_CA, label='commercial')\n",
    "plt.plot(years, TECE_CA, label='electric power')\n",
    "plt.plot(years, TECR_CA, label='residential')\n",
    "\n",
    "plt.legend()\n",
    "plt.savefig('CA_sector')\n",
    "plt.show()"
   ]
  },
  {
   "cell_type": "code",
   "execution_count": 36,
   "metadata": {
    "ExecuteTime": {
     "end_time": "2021-09-14T22:04:58.434044Z",
     "start_time": "2021-09-14T22:04:58.196757Z"
    }
   },
   "outputs": [
    {
     "data": {
      "image/png": "[encoded data removed]",
      "text/plain": [
       "<Figure size 432x288 with 1 Axes>"
      ]
     },
     "metadata": {
      "needs_background": "light"
     },
     "output_type": "display_data"
    }
   ],
   "source": [
    "# NM的情况\n",
    "TEC_NM = TEC_NM['Data'].values\n",
    "TECI_NM = TECI_NM['Data'].values\n",
    "TECT_NM = TECT_NM['Data'].values\n",
    "TECC_NM = TECC_NM['Data'].values\n",
    "TECE_NM = TECE_NM['Data'].values\n",
    "TECR_NM = TECR_NM['Data'].values\n",
    "\n",
    "# 图像\n",
    "plt.plot(years, TEC_NM, label='total')\n",
    "plt.plot(years, TECI_NM, label='industrial')\n",
    "plt.plot(years, TECT_NM, label='transportation')\n",
    "plt.plot(years, TECC_NM, label='commercial')\n",
    "plt.plot(years, TECE_NM, label='electric power')\n",
    "plt.plot(years, TECR_NM, label='residential')\n",
    "\n",
    "plt.legend()\n",
    "plt.savefig('NM_sector')\n",
    "plt.show()"
   ]
  },
  {
   "cell_type": "code",
   "execution_count": 37,
   "metadata": {
    "ExecuteTime": {
     "end_time": "2021-09-14T22:05:00.843786Z",
     "start_time": "2021-09-14T22:05:00.605235Z"
    }
   },
   "outputs": [
    {
     "data": {
      "image/png": "[encoded data removed]",
      "text/plain": [
       "<Figure size 432x288 with 1 Axes>"
      ]
     },
     "metadata": {
      "needs_background": "light"
     },
     "output_type": "display_data"
    }
   ],
   "source": [
    "# TX的情况\n",
    "TEC_TX = TEC_TX['Data'].values\n",
    "TECI_TX = TECI_TX['Data'].values\n",
    "TECT_TX = TECT_TX['Data'].values\n",
    "TECC_TX = TECC_TX['Data'].values\n",
    "TECE_TX = TECE_TX['Data'].values\n",
    "TECR_TX = TECR_TX['Data'].values\n",
    "\n",
    "# 图像\n",
    "plt.plot(years, TEC_TX, label='total')\n",
    "plt.plot(years, TECI_TX, label='industrial')\n",
    "plt.plot(years, TECT_TX, label='transportation')\n",
    "plt.plot(years, TECC_TX, label='commercial')\n",
    "plt.plot(years, TECE_TX, label='electric power')\n",
    "plt.plot(years, TECR_TX, label='residential')\n",
    "\n",
    "plt.legend()\n",
    "plt.savefig('TX_sector')\n",
    "plt.show()"
   ]
  },
  {
   "cell_type": "code",
   "execution_count": 38,
   "metadata": {
    "ExecuteTime": {
     "end_time": "2021-09-14T22:05:01.647751Z",
     "start_time": "2021-09-14T22:05:01.636741Z"
    }
   },
   "outputs": [
    {
     "name": "stdout",
     "output_type": "stream",
     "text": [
      "4.136580619719584 2.358668046214796 3.2300375336576925 2.592801148748609 11.060796044839218 3.4050347858789327\n"
     ]
    }
   ],
   "source": [
    "# AZ的增长率\n",
    "rate_az = (TEC_AZ[-1] - TEC_AZ[0]) / TEC_AZ[0]\n",
    "rate_az_i = (TECI_AZ[-1] - TECI_AZ[0]) / TECI_AZ[0]\n",
    "rate_az_t = (TECT_AZ[-1] - TECT_AZ[0]) / TECT_AZ[0]\n",
    "rate_az_c = (TECC_AZ[-1] - TECC_AZ[0]) / TECC_AZ[0]\n",
    "rate_az_e = (TECE_AZ[-1] - TECE_AZ[0]) / TECE_AZ[0]\n",
    "rate_az_r = (TECR_AZ[-1] - TECR_AZ[0]) / TECR_AZ[0]\n",
    "\n",
    "print(rate_az, rate_az_i, rate_az_t, rate_az_c, rate_az_e, rate_az_r)"
   ]
  },
  {
   "cell_type": "code",
   "execution_count": 39,
   "metadata": {
    "ExecuteTime": {
     "end_time": "2021-09-14T22:05:04.469778Z",
     "start_time": "2021-09-14T22:05:04.460774Z"
    }
   },
   "outputs": [
    {
     "name": "stdout",
     "output_type": "stream",
     "text": [
      "1171184.7445999999 89427.42747 376928.4396 101838.78889 969973.33039 127534.28137\n"
     ]
    }
   ],
   "source": [
    "# AZ的增长量\n",
    "delta_az = TEC_AZ[-1] - TEC_AZ[0]\n",
    "delta_az_i = TECI_AZ[-1] - TECI_AZ[0]\n",
    "delta_az_t = TECT_AZ[-1] - TECT_AZ[0]\n",
    "delta_az_c = TECC_AZ[-1] - TECC_AZ[0]\n",
    "delta_az_e = TECE_AZ[-1] - TECE_AZ[0]\n",
    "delta_az_r = TECR_AZ[-1] - TECR_AZ[0]\n",
    "\n",
    "print(delta_az, delta_az_i, delta_az_t, delta_az_c, delta_az_e, delta_az_r)"
   ]
  },
  {
   "cell_type": "code",
   "execution_count": 40,
   "metadata": {
    "ExecuteTime": {
     "end_time": "2021-09-14T22:05:05.459344Z",
     "start_time": "2021-09-14T22:05:05.453334Z"
    }
   },
   "outputs": [
    {
     "name": "stdout",
     "output_type": "stream",
     "text": [
      "1.319312984310582 0.39284789344384646 1.552007865500126 1.834875343281393 1.6030066892788029 0.8770769059466575\n",
      "4553839.876 402351.81700000004 1899547.8880000003 458986.16780000005 1077466.6622 412383.2065\n"
     ]
    }
   ],
   "source": [
    "# CA的增长率\n",
    "rate_ca = (TEC_CA[-1] - TEC_CA[0]) / TEC_CA[0]\n",
    "rate_ca_i = (TECI_CA[-1] - TECI_CA[0]) / TECI_CA[0]\n",
    "rate_ca_t = (TECT_CA[-1] - TECT_CA[0]) / TECT_CA[0]\n",
    "rate_ca_c = (TECC_CA[-1] - TECC_CA[0]) / TECC_CA[0]\n",
    "rate_ca_e = (TECE_CA[-1] - TECE_CA[0]) / TECE_CA[0]\n",
    "rate_ca_r = (TECR_CA[-1] - TECR_CA[0]) / TECR_CA[0]\n",
    "\n",
    "print(rate_ca, rate_ca_i, rate_ca_t, rate_ca_c, rate_ca_e, rate_ca_r)\n",
    "\n",
    "# CA的增长量\n",
    "delta_ca = TEC_CA[-1] - TEC_CA[0]\n",
    "delta_ca_i = TECI_CA[-1] - TECI_CA[0]\n",
    "delta_ca_t = TECT_CA[-1] - TECT_CA[0]\n",
    "delta_ca_c = TECC_CA[-1] - TECC_CA[0]\n",
    "delta_ca_e = TECE_CA[-1] - TECE_CA[0]\n",
    "delta_ca_r = TECR_CA[-1] - TECR_CA[0]\n",
    "\n",
    "print(delta_ca, delta_ca_i, delta_ca_t, delta_ca_c, delta_ca_e, delta_ca_r)"
   ]
  },
  {
   "cell_type": "code",
   "execution_count": 41,
   "metadata": {
    "ExecuteTime": {
     "end_time": "2021-09-14T22:05:07.585933Z",
     "start_time": "2021-09-14T22:05:07.572921Z"
    }
   },
   "outputs": [
    {
     "name": "stdout",
     "output_type": "stream",
     "text": [
      "1.0366359020489775 0.1500718885246496 1.2114660226972653 2.8982216819060675 9.67717502889334 0.9810120647673434\n",
      "341074.23049999995 23663.35090000002 110868.88618000002 44373.36945 358135.42047 35287.209579999995\n"
     ]
    }
   ],
   "source": [
    "# NM的增长率\n",
    "rate_nm = (TEC_NM[-1] - TEC_NM[0]) / TEC_NM[0]\n",
    "rate_nm_i = (TECI_NM[-1] - TECI_NM[0]) / TECI_NM[0]\n",
    "rate_nm_t = (TECT_NM[-1] - TECT_NM[0]) / TECT_NM[0]\n",
    "rate_nm_c = (TECC_NM[-1] - TECC_NM[0]) / TECC_NM[0]\n",
    "rate_nm_e = (TECE_NM[-1] - TECE_NM[0]) / TECE_NM[0]\n",
    "rate_nm_r = (TECR_NM[-1] - TECR_NM[0]) / TECR_NM[0]\n",
    "\n",
    "print(rate_nm, rate_nm_i, rate_nm_t, rate_nm_c, rate_nm_e, rate_nm_r)\n",
    "\n",
    "# NM的增长量\n",
    "delta_nm = TEC_NM[-1] - TEC_NM[0]\n",
    "delta_nm_i = TECI_NM[-1] - TECI_NM[0]\n",
    "delta_nm_t = TECT_NM[-1] - TECT_NM[0]\n",
    "delta_nm_c = TECC_NM[-1] - TECC_NM[0]\n",
    "delta_nm_e = TECE_NM[-1] - TECE_NM[0]\n",
    "delta_nm_r = TECR_NM[-1] - TECR_NM[0]\n",
    "\n",
    "print(delta_nm, delta_nm_i, delta_nm_t, delta_nm_c, delta_nm_e, delta_nm_r)"
   ]
  },
  {
   "cell_type": "code",
   "execution_count": 42,
   "metadata": {
    "ExecuteTime": {
     "end_time": "2021-09-14T22:05:08.348735Z",
     "start_time": "2021-09-14T22:05:08.332713Z"
    }
   },
   "outputs": [
    {
     "name": "stdout",
     "output_type": "stream",
     "text": [
      "1.5489895573356152 0.6311583655743768 2.413372693837013 4.1336597065847895 7.210436958952122 1.5390271259267976\n",
      "6865297.262 1859706.634 1925748.4983 490189.3774 3123558.5009 411895.1352\n"
     ]
    }
   ],
   "source": [
    "# TX的增长率\n",
    "rate_tx = (TEC_TX[-1] - TEC_TX[0]) / TEC_TX[0]\n",
    "rate_tx_i = (TECI_TX[-1] - TECI_TX[0]) / TECI_TX[0]\n",
    "rate_tx_t = (TECT_TX[-1] - TECT_TX[0]) / TECT_TX[0]\n",
    "rate_tx_c = (TECC_TX[-1] - TECC_TX[0]) / TECC_TX[0]\n",
    "rate_tx_e = (TECE_TX[-1] - TECE_TX[0]) / TECE_TX[0]\n",
    "rate_tx_r = (TECR_TX[-1] - TECR_TX[0]) / TECR_TX[0]\n",
    "\n",
    "print(rate_tx, rate_tx_i, rate_tx_t, rate_tx_c, rate_tx_e, rate_tx_r)\n",
    "\n",
    "# TX的增长量\n",
    "delta_tx = TEC_TX[-1] - TEC_TX[0]\n",
    "delta_tx_i = TECI_TX[-1] - TECI_TX[0]\n",
    "delta_tx_t = TECT_TX[-1] - TECT_TX[0]\n",
    "delta_tx_c = TECC_TX[-1] - TECC_TX[0]\n",
    "delta_tx_e = TECE_TX[-1] - TECE_TX[0]\n",
    "delta_tx_r = TECR_TX[-1] - TECR_TX[0]\n",
    "\n",
    "print(delta_tx, delta_tx_i, delta_tx_t, delta_tx_c, delta_tx_e, delta_tx_r)"
   ]
  },
  {
   "cell_type": "code",
   "execution_count": 43,
   "metadata": {
    "ExecuteTime": {
     "end_time": "2021-09-14T22:05:10.792984Z",
     "start_time": "2021-09-14T22:05:10.780980Z"
    }
   },
   "outputs": [
    {
     "data": {
      "text/html": [
       "<div>\n",
       "<style scoped>\n",
       "    .dataframe tbody tr th:only-of-type {\n",
       "        vertical-align: middle;\n",
       "    }\n",
       "\n",
       "    .dataframe tbody tr th {\n",
       "        vertical-align: top;\n",
       "    }\n",
       "\n",
       "    .dataframe thead th {\n",
       "        text-align: right;\n",
       "    }\n",
       "</style>\n",
       "<table border=\"1\" class=\"dataframe\">\n",
       "  <thead>\n",
       "    <tr style=\"text-align: right;\">\n",
       "      <th></th>\n",
       "      <th>MSN</th>\n",
       "      <th>StateCode</th>\n",
       "      <th>Year</th>\n",
       "      <th>Data</th>\n",
       "    </tr>\n",
       "  </thead>\n",
       "  <tbody>\n",
       "    <tr>\n",
       "      <th>31960</th>\n",
       "      <td>GDPRX</td>\n",
       "      <td>AZ</td>\n",
       "      <td>1977</td>\n",
       "      <td>48878.53820</td>\n",
       "    </tr>\n",
       "    <tr>\n",
       "      <th>31961</th>\n",
       "      <td>GDPRX</td>\n",
       "      <td>AZ</td>\n",
       "      <td>1978</td>\n",
       "      <td>53993.14082</td>\n",
       "    </tr>\n",
       "    <tr>\n",
       "      <th>31962</th>\n",
       "      <td>GDPRX</td>\n",
       "      <td>AZ</td>\n",
       "      <td>1979</td>\n",
       "      <td>59072.31394</td>\n",
       "    </tr>\n",
       "    <tr>\n",
       "      <th>31963</th>\n",
       "      <td>GDPRX</td>\n",
       "      <td>AZ</td>\n",
       "      <td>1980</td>\n",
       "      <td>60906.14486</td>\n",
       "    </tr>\n",
       "    <tr>\n",
       "      <th>31964</th>\n",
       "      <td>GDPRX</td>\n",
       "      <td>AZ</td>\n",
       "      <td>1981</td>\n",
       "      <td>62601.09214</td>\n",
       "    </tr>\n",
       "    <tr>\n",
       "      <th>31965</th>\n",
       "      <td>GDPRX</td>\n",
       "      <td>AZ</td>\n",
       "      <td>1982</td>\n",
       "      <td>61128.64212</td>\n",
       "    </tr>\n",
       "    <tr>\n",
       "      <th>31966</th>\n",
       "      <td>GDPRX</td>\n",
       "      <td>AZ</td>\n",
       "      <td>1983</td>\n",
       "      <td>64621.99082</td>\n",
       "    </tr>\n",
       "    <tr>\n",
       "      <th>31967</th>\n",
       "      <td>GDPRX</td>\n",
       "      <td>AZ</td>\n",
       "      <td>1984</td>\n",
       "      <td>71570.42436</td>\n",
       "    </tr>\n",
       "    <tr>\n",
       "      <th>31968</th>\n",
       "      <td>GDPRX</td>\n",
       "      <td>AZ</td>\n",
       "      <td>1985</td>\n",
       "      <td>76128.07524</td>\n",
       "    </tr>\n",
       "    <tr>\n",
       "      <th>31969</th>\n",
       "      <td>GDPRX</td>\n",
       "      <td>AZ</td>\n",
       "      <td>1986</td>\n",
       "      <td>80621.95302</td>\n",
       "    </tr>\n",
       "    <tr>\n",
       "      <th>31970</th>\n",
       "      <td>GDPRX</td>\n",
       "      <td>AZ</td>\n",
       "      <td>1987</td>\n",
       "      <td>83970.74936</td>\n",
       "    </tr>\n",
       "    <tr>\n",
       "      <th>31971</th>\n",
       "      <td>GDPRX</td>\n",
       "      <td>AZ</td>\n",
       "      <td>1988</td>\n",
       "      <td>87979.95158</td>\n",
       "    </tr>\n",
       "    <tr>\n",
       "      <th>31972</th>\n",
       "      <td>GDPRX</td>\n",
       "      <td>AZ</td>\n",
       "      <td>1989</td>\n",
       "      <td>88762.23494</td>\n",
       "    </tr>\n",
       "    <tr>\n",
       "      <th>31973</th>\n",
       "      <td>GDPRX</td>\n",
       "      <td>AZ</td>\n",
       "      <td>1990</td>\n",
       "      <td>89458.07032</td>\n",
       "    </tr>\n",
       "    <tr>\n",
       "      <th>31974</th>\n",
       "      <td>GDPRX</td>\n",
       "      <td>AZ</td>\n",
       "      <td>1991</td>\n",
       "      <td>89830.78866</td>\n",
       "    </tr>\n",
       "    <tr>\n",
       "      <th>31975</th>\n",
       "      <td>GDPRX</td>\n",
       "      <td>AZ</td>\n",
       "      <td>1992</td>\n",
       "      <td>98968.76530</td>\n",
       "    </tr>\n",
       "    <tr>\n",
       "      <th>31976</th>\n",
       "      <td>GDPRX</td>\n",
       "      <td>AZ</td>\n",
       "      <td>1993</td>\n",
       "      <td>104049.35560</td>\n",
       "    </tr>\n",
       "    <tr>\n",
       "      <th>31977</th>\n",
       "      <td>GDPRX</td>\n",
       "      <td>AZ</td>\n",
       "      <td>1994</td>\n",
       "      <td>114121.25390</td>\n",
       "    </tr>\n",
       "    <tr>\n",
       "      <th>31978</th>\n",
       "      <td>GDPRX</td>\n",
       "      <td>AZ</td>\n",
       "      <td>1995</td>\n",
       "      <td>122797.22980</td>\n",
       "    </tr>\n",
       "    <tr>\n",
       "      <th>31979</th>\n",
       "      <td>GDPRX</td>\n",
       "      <td>AZ</td>\n",
       "      <td>1996</td>\n",
       "      <td>132497.82690</td>\n",
       "    </tr>\n",
       "    <tr>\n",
       "      <th>31980</th>\n",
       "      <td>GDPRX</td>\n",
       "      <td>AZ</td>\n",
       "      <td>1997</td>\n",
       "      <td>141718.00000</td>\n",
       "    </tr>\n",
       "    <tr>\n",
       "      <th>31981</th>\n",
       "      <td>GDPRX</td>\n",
       "      <td>AZ</td>\n",
       "      <td>1998</td>\n",
       "      <td>155020.00000</td>\n",
       "    </tr>\n",
       "    <tr>\n",
       "      <th>31982</th>\n",
       "      <td>GDPRX</td>\n",
       "      <td>AZ</td>\n",
       "      <td>1999</td>\n",
       "      <td>168321.00000</td>\n",
       "    </tr>\n",
       "    <tr>\n",
       "      <th>31983</th>\n",
       "      <td>GDPRX</td>\n",
       "      <td>AZ</td>\n",
       "      <td>2000</td>\n",
       "      <td>179260.00000</td>\n",
       "    </tr>\n",
       "    <tr>\n",
       "      <th>31984</th>\n",
       "      <td>GDPRX</td>\n",
       "      <td>AZ</td>\n",
       "      <td>2001</td>\n",
       "      <td>185979.00000</td>\n",
       "    </tr>\n",
       "    <tr>\n",
       "      <th>31985</th>\n",
       "      <td>GDPRX</td>\n",
       "      <td>AZ</td>\n",
       "      <td>2002</td>\n",
       "      <td>190389.00000</td>\n",
       "    </tr>\n",
       "    <tr>\n",
       "      <th>31986</th>\n",
       "      <td>GDPRX</td>\n",
       "      <td>AZ</td>\n",
       "      <td>2003</td>\n",
       "      <td>200110.00000</td>\n",
       "    </tr>\n",
       "    <tr>\n",
       "      <th>31987</th>\n",
       "      <td>GDPRX</td>\n",
       "      <td>AZ</td>\n",
       "      <td>2004</td>\n",
       "      <td>207587.00000</td>\n",
       "    </tr>\n",
       "    <tr>\n",
       "      <th>31988</th>\n",
       "      <td>GDPRX</td>\n",
       "      <td>AZ</td>\n",
       "      <td>2005</td>\n",
       "      <td>222968.00000</td>\n",
       "    </tr>\n",
       "    <tr>\n",
       "      <th>31989</th>\n",
       "      <td>GDPRX</td>\n",
       "      <td>AZ</td>\n",
       "      <td>2006</td>\n",
       "      <td>239013.00000</td>\n",
       "    </tr>\n",
       "    <tr>\n",
       "      <th>31990</th>\n",
       "      <td>GDPRX</td>\n",
       "      <td>AZ</td>\n",
       "      <td>2007</td>\n",
       "      <td>245228.00000</td>\n",
       "    </tr>\n",
       "    <tr>\n",
       "      <th>31991</th>\n",
       "      <td>GDPRX</td>\n",
       "      <td>AZ</td>\n",
       "      <td>2008</td>\n",
       "      <td>241620.00000</td>\n",
       "    </tr>\n",
       "    <tr>\n",
       "      <th>31992</th>\n",
       "      <td>GDPRX</td>\n",
       "      <td>AZ</td>\n",
       "      <td>2009</td>\n",
       "      <td>230854.00000</td>\n",
       "    </tr>\n",
       "  </tbody>\n",
       "</table>\n",
       "</div>"
      ],
      "text/plain": [
       "         MSN StateCode  Year          Data\n",
       "31960  GDPRX        AZ  1977   48878.53820\n",
       "31961  GDPRX        AZ  1978   53993.14082\n",
       "31962  GDPRX        AZ  1979   59072.31394\n",
       "31963  GDPRX        AZ  1980   60906.14486\n",
       "31964  GDPRX        AZ  1981   62601.09214\n",
       "31965  GDPRX        AZ  1982   61128.64212\n",
       "31966  GDPRX        AZ  1983   64621.99082\n",
       "31967  GDPRX        AZ  1984   71570.42436\n",
       "31968  GDPRX        AZ  1985   76128.07524\n",
       "31969  GDPRX        AZ  1986   80621.95302\n",
       "31970  GDPRX        AZ  1987   83970.74936\n",
       "31971  GDPRX        AZ  1988   87979.95158\n",
       "31972  GDPRX        AZ  1989   88762.23494\n",
       "31973  GDPRX        AZ  1990   89458.07032\n",
       "31974  GDPRX        AZ  1991   89830.78866\n",
       "31975  GDPRX        AZ  1992   98968.76530\n",
       "31976  GDPRX        AZ  1993  104049.35560\n",
       "31977  GDPRX        AZ  1994  114121.25390\n",
       "31978  GDPRX        AZ  1995  122797.22980\n",
       "31979  GDPRX        AZ  1996  132497.82690\n",
       "31980  GDPRX        AZ  1997  141718.00000\n",
       "31981  GDPRX        AZ  1998  155020.00000\n",
       "31982  GDPRX        AZ  1999  168321.00000\n",
       "31983  GDPRX        AZ  2000  179260.00000\n",
       "31984  GDPRX        AZ  2001  185979.00000\n",
       "31985  GDPRX        AZ  2002  190389.00000\n",
       "31986  GDPRX        AZ  2003  200110.00000\n",
       "31987  GDPRX        AZ  2004  207587.00000\n",
       "31988  GDPRX        AZ  2005  222968.00000\n",
       "31989  GDPRX        AZ  2006  239013.00000\n",
       "31990  GDPRX        AZ  2007  245228.00000\n",
       "31991  GDPRX        AZ  2008  241620.00000\n",
       "31992  GDPRX        AZ  2009  230854.00000"
      ]
     },
     "execution_count": 43,
     "metadata": {},
     "output_type": "execute_result"
    }
   ],
   "source": [
    "E_AZ"
   ]
  },
  {
   "cell_type": "code",
   "execution_count": 44,
   "metadata": {
    "ExecuteTime": {
     "end_time": "2021-09-14T22:05:14.018134Z",
     "start_time": "2021-09-14T22:05:13.956835Z"
    }
   },
   "outputs": [],
   "source": [
    "TECI_AZ = dataset[(dataset['MSN'] == 'TNICB') & (dataset['StateCode'] == 'AZ')]\n",
    "TECI_CA = dataset[(dataset['MSN'] == 'TNICB') & (dataset['StateCode'] == 'CA')]\n",
    "TECI_NM = dataset[(dataset['MSN'] == 'TNICB') & (dataset['StateCode'] == 'NM')]\n",
    "TECI_TX = dataset[(dataset['MSN'] == 'TNICB') & (dataset['StateCode'] == 'TX')]"
   ]
  },
  {
   "cell_type": "code",
   "execution_count": null,
   "metadata": {
    "ExecuteTime": {
     "end_time": "2021-09-14T22:06:33.529314Z",
     "start_time": "2021-09-14T22:06:33.509318Z"
    }
   },
   "outputs": [],
   "source": [
    "# TX的情况\n",
    "TEC_TX = TEC_TX['Data'].values\n",
    "TECI_TX = TECI_TX['Data'].values\n",
    "TECT_TX = TECT_TX['Data'].values\n",
    "TECC_TX = TECC_TX['Data'].values\n",
    "TECE_TX = TECE_TX['Data'].values\n",
    "TECR_TX = TECR_TX['Data'].values"
   ]
  },
  {
   "cell_type": "code",
   "execution_count": null,
   "metadata": {
    "ExecuteTime": {
     "end_time": "2021-09-14T22:06:35.957164Z",
     "start_time": "2021-09-14T22:06:35.950171Z"
    }
   },
   "outputs": [],
   "source": [
    "TEC_AZ = TEC_AZ['Data'].values\n",
    "TECI_AZ = TECI_AZ['Data'].values\n",
    "TECT_AZ = TECT_AZ['Data'].values\n",
    "TECC_AZ = TECC_AZ['Data'].values\n",
    "TECE_AZ = TECE_AZ['Data'].values\n",
    "TECR_AZ = TECR_AZ['Data'].values\n",
    "\n",
    "plt.plot(years[17:], E_AZ['Data'].values)\n",
    "plt.plot(years, P_AZ['Data'].values)\n",
    "plt.plot(years, TECI_AZ)\n",
    "plt.show()"
   ]
  },
  {
   "cell_type": "code",
   "execution_count": null,
   "metadata": {
    "ExecuteTime": {
     "end_time": "2021-09-14T22:06:37.368330Z",
     "start_time": "2021-09-14T22:06:37.252943Z"
    }
   },
   "outputs": [],
   "source": [
    "plt.plot(years[17:], E_AZ['Data'].values)\n",
    "plt.plot(years, P_AZ['Data'].values)\n",
    "plt.plot(years, TECI_AZ)\n",
    "plt.show()"
   ]
  },
  {
   "cell_type": "code",
   "execution_count": null,
   "metadata": {
    "ExecuteTime": {
     "end_time": "2021-09-14T22:06:42.845707Z",
     "start_time": "2021-09-14T22:06:42.813063Z"
    }
   },
   "outputs": [],
   "source": [
    "# 工业\n",
    "TECI_NM = dataset[(dataset['MSN'] == 'TNICB') & (dataset['StateCode'] == 'NM')]\n",
    "# 交通\n",
    "TECT_CA = dataset[(dataset['MSN'] == 'TNACB') & (dataset['StateCode'] == 'CA')]\n",
    "# NM的情况\n",
    "TECI_NM = TECI_NM['Data'].values\n",
    "TECT_NM = TECT_NM['Data'].values"
   ]
  },
  {
   "cell_type": "code",
   "execution_count": 51,
   "metadata": {
    "ExecuteTime": {
     "end_time": "2021-09-14T22:06:44.511953Z",
     "start_time": "2021-09-14T22:06:44.500940Z"
    }
   },
   "outputs": [
    {
     "data": {
      "text/plain": [
       "array([1960, 1961, 1962, 1963, 1964, 1965, 1966, 1967, 1968, 1969, 1970,\n",
       "       1971, 1972, 1973, 1974, 1975, 1976, 1977, 1978, 1979, 1980, 1981,\n",
       "       1982, 1983, 1984, 1985, 1986, 1987, 1988, 1989, 1990, 1991, 1992,\n",
       "       1993, 1994, 1995, 1996, 1997, 1998, 1999, 2000, 2001, 2002, 2003,\n",
       "       2004, 2005, 2006, 2007, 2008, 2009])"
      ]
     },
     "execution_count": 51,
     "metadata": {},
     "output_type": "execute_result"
    }
   ],
   "source": [
    "years"
   ]
  },
  {
   "cell_type": "code",
   "execution_count": 52,
   "metadata": {
    "ExecuteTime": {
     "end_time": "2021-09-14T22:06:47.107965Z",
     "start_time": "2021-09-14T22:06:47.092951Z"
    }
   },
   "outputs": [],
   "source": [
    "E_NM = E_NM['Data'].values"
   ]
  },
  {
   "cell_type": "code",
   "execution_count": null,
   "metadata": {
    "ExecuteTime": {
     "end_time": "2021-09-14T22:06:47.914026Z",
     "start_time": "2021-09-14T22:06:47.796660Z"
    }
   },
   "outputs": [],
   "source": [
    "plt.plot(years, TECT_NM, label='transportation')\n",
    "plt.plot(years, P_NM * 100, label='population')\n",
    "plt.plot(years[17:], E_NM * 2, label='rGDP')\n",
    "\n",
    "plt.legend()\n",
    "plt.grid()\n",
    "plt.savefig('2')\n",
    "plt.show()"
   ]
  },
  {
   "cell_type": "code",
   "execution_count": null,
   "metadata": {},
   "outputs": [],
   "source": []
  }
 ],
 "metadata": {
  "kernelspec": {
   "display_name": "Python 3",
   "language": "python",
   "name": "python3"
  },
  "language_info": {
   "codemirror_mode": {
    "name": "ipython",
    "version": 3
   },
   "file_extension": ".py",
   "mimetype": "text/x-python",
   "name": "python",
   "nbconvert_exporter": "python",
   "pygments_lexer": "ipython3",
   "version": "3.8.5"
  },
  "varInspector": {
   "cols": {
    "lenName": 16,
    "lenType": 16,
    "lenVar": 40
   },
   "kernels_config": {
    "python": {
     "delete_cmd_postfix": "",
     "delete_cmd_prefix": "del ",
     "library": "var_list.py",
     "varRefreshCmd": "print(var_dic_list())"
    },
    "r": {
     "delete_cmd_postfix": ") ",
     "delete_cmd_prefix": "rm(",
     "library": "var_list.r",
     "varRefreshCmd": "cat(var_dic_list()) "
    }
   },
   "types_to_exclude": [
    "module",
    "function",
    "builtin_function_or_method",
    "instance",
    "_Feature"
   ],
   "window_display": false
  }
 },
 "nbformat": 4,
 "nbformat_minor": 2
}
